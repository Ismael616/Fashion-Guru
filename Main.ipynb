{
 "cells": [
  {
   "cell_type": "code",
   "execution_count": 1,
   "metadata": {},
   "outputs": [],
   "source": [
    "import pandas as pd "
   ]
  },
  {
   "cell_type": "code",
   "execution_count": 15,
   "metadata": {},
   "outputs": [
    {
     "name": "stdout",
     "output_type": "stream",
     "text": [
      "Collecting stqdm\n",
      "  Downloading stqdm-0.0.5-py3-none-any.whl (11 kB)\n",
      "Requirement already satisfied: streamlit>=0.66 in ./.env/lib/python3.11/site-packages (from stqdm) (1.27.2)\n",
      "Collecting tqdm>=4.50\n",
      "  Downloading tqdm-4.66.1-py3-none-any.whl (78 kB)\n",
      "\u001b[2K     \u001b[90m━━━━━━━━━━━━━━━━━━━━━━━━━━━━━━━━━━━━━━━━\u001b[0m \u001b[32m78.3/78.3 kB\u001b[0m \u001b[31m4.4 MB/s\u001b[0m eta \u001b[36m0:00:00\u001b[0m\n",
      "\u001b[?25hRequirement already satisfied: altair<6,>=4.0 in ./.env/lib/python3.11/site-packages (from streamlit>=0.66->stqdm) (5.1.2)\n",
      "Requirement already satisfied: blinker<2,>=1.0.0 in ./.env/lib/python3.11/site-packages (from streamlit>=0.66->stqdm) (1.6.3)\n",
      "Requirement already satisfied: cachetools<6,>=4.0 in ./.env/lib/python3.11/site-packages (from streamlit>=0.66->stqdm) (5.3.1)\n",
      "Requirement already satisfied: click<9,>=7.0 in ./.env/lib/python3.11/site-packages (from streamlit>=0.66->stqdm) (8.1.7)\n",
      "Requirement already satisfied: importlib-metadata<7,>=1.4 in ./.env/lib/python3.11/site-packages (from streamlit>=0.66->stqdm) (6.8.0)\n",
      "Requirement already satisfied: numpy<2,>=1.19.3 in ./.env/lib/python3.11/site-packages (from streamlit>=0.66->stqdm) (1.26.0)\n",
      "Requirement already satisfied: packaging<24,>=16.8 in ./.env/lib/python3.11/site-packages (from streamlit>=0.66->stqdm) (23.2)\n",
      "Requirement already satisfied: pandas<3,>=1.3.0 in ./.env/lib/python3.11/site-packages (from streamlit>=0.66->stqdm) (2.1.1)\n",
      "Requirement already satisfied: pillow<11,>=7.1.0 in ./.env/lib/python3.11/site-packages (from streamlit>=0.66->stqdm) (10.0.1)\n",
      "Requirement already satisfied: protobuf<5,>=3.20 in ./.env/lib/python3.11/site-packages (from streamlit>=0.66->stqdm) (4.24.4)\n",
      "Requirement already satisfied: pyarrow>=6.0 in ./.env/lib/python3.11/site-packages (from streamlit>=0.66->stqdm) (13.0.0)\n",
      "Requirement already satisfied: python-dateutil<3,>=2.7.3 in ./.env/lib/python3.11/site-packages (from streamlit>=0.66->stqdm) (2.8.2)\n",
      "Requirement already satisfied: requests<3,>=2.27 in ./.env/lib/python3.11/site-packages (from streamlit>=0.66->stqdm) (2.31.0)\n",
      "Requirement already satisfied: rich<14,>=10.14.0 in ./.env/lib/python3.11/site-packages (from streamlit>=0.66->stqdm) (13.6.0)\n",
      "Requirement already satisfied: tenacity<9,>=8.1.0 in ./.env/lib/python3.11/site-packages (from streamlit>=0.66->stqdm) (8.2.3)\n",
      "Requirement already satisfied: toml<2,>=0.10.1 in ./.env/lib/python3.11/site-packages (from streamlit>=0.66->stqdm) (0.10.2)\n",
      "Requirement already satisfied: typing-extensions<5,>=4.3.0 in ./.env/lib/python3.11/site-packages (from streamlit>=0.66->stqdm) (4.8.0)\n",
      "Requirement already satisfied: tzlocal<6,>=1.1 in ./.env/lib/python3.11/site-packages (from streamlit>=0.66->stqdm) (5.1)\n",
      "Requirement already satisfied: validators<1,>=0.2 in ./.env/lib/python3.11/site-packages (from streamlit>=0.66->stqdm) (0.22.0)\n",
      "Requirement already satisfied: gitpython!=3.1.19,<4,>=3.0.7 in ./.env/lib/python3.11/site-packages (from streamlit>=0.66->stqdm) (3.1.37)\n",
      "Requirement already satisfied: pydeck<1,>=0.8.0b4 in ./.env/lib/python3.11/site-packages (from streamlit>=0.66->stqdm) (0.8.1b0)\n",
      "Requirement already satisfied: tornado<7,>=6.0.3 in ./.env/lib/python3.11/site-packages (from streamlit>=0.66->stqdm) (6.3.3)\n",
      "Requirement already satisfied: watchdog>=2.1.5 in ./.env/lib/python3.11/site-packages (from streamlit>=0.66->stqdm) (3.0.0)\n",
      "Requirement already satisfied: jinja2 in ./.env/lib/python3.11/site-packages (from altair<6,>=4.0->streamlit>=0.66->stqdm) (3.1.2)\n",
      "Requirement already satisfied: jsonschema>=3.0 in ./.env/lib/python3.11/site-packages (from altair<6,>=4.0->streamlit>=0.66->stqdm) (4.19.1)\n",
      "Requirement already satisfied: toolz in ./.env/lib/python3.11/site-packages (from altair<6,>=4.0->streamlit>=0.66->stqdm) (0.12.0)\n",
      "Requirement already satisfied: gitdb<5,>=4.0.1 in ./.env/lib/python3.11/site-packages (from gitpython!=3.1.19,<4,>=3.0.7->streamlit>=0.66->stqdm) (4.0.10)\n",
      "Requirement already satisfied: zipp>=0.5 in ./.env/lib/python3.11/site-packages (from importlib-metadata<7,>=1.4->streamlit>=0.66->stqdm) (3.17.0)\n",
      "Requirement already satisfied: pytz>=2020.1 in ./.env/lib/python3.11/site-packages (from pandas<3,>=1.3.0->streamlit>=0.66->stqdm) (2023.3.post1)\n",
      "Requirement already satisfied: tzdata>=2022.1 in ./.env/lib/python3.11/site-packages (from pandas<3,>=1.3.0->streamlit>=0.66->stqdm) (2023.3)\n",
      "Requirement already satisfied: six>=1.5 in ./.env/lib/python3.11/site-packages (from python-dateutil<3,>=2.7.3->streamlit>=0.66->stqdm) (1.16.0)\n",
      "Requirement already satisfied: charset-normalizer<4,>=2 in ./.env/lib/python3.11/site-packages (from requests<3,>=2.27->streamlit>=0.66->stqdm) (3.3.0)\n",
      "Requirement already satisfied: idna<4,>=2.5 in ./.env/lib/python3.11/site-packages (from requests<3,>=2.27->streamlit>=0.66->stqdm) (3.4)\n",
      "Requirement already satisfied: urllib3<3,>=1.21.1 in ./.env/lib/python3.11/site-packages (from requests<3,>=2.27->streamlit>=0.66->stqdm) (2.0.6)\n",
      "Requirement already satisfied: certifi>=2017.4.17 in ./.env/lib/python3.11/site-packages (from requests<3,>=2.27->streamlit>=0.66->stqdm) (2023.7.22)\n",
      "Requirement already satisfied: markdown-it-py>=2.2.0 in ./.env/lib/python3.11/site-packages (from rich<14,>=10.14.0->streamlit>=0.66->stqdm) (3.0.0)\n",
      "Requirement already satisfied: pygments<3.0.0,>=2.13.0 in ./.env/lib/python3.11/site-packages (from rich<14,>=10.14.0->streamlit>=0.66->stqdm) (2.16.1)\n",
      "Requirement already satisfied: smmap<6,>=3.0.1 in ./.env/lib/python3.11/site-packages (from gitdb<5,>=4.0.1->gitpython!=3.1.19,<4,>=3.0.7->streamlit>=0.66->stqdm) (5.0.1)\n",
      "Requirement already satisfied: MarkupSafe>=2.0 in ./.env/lib/python3.11/site-packages (from jinja2->altair<6,>=4.0->streamlit>=0.66->stqdm) (2.1.3)\n",
      "Requirement already satisfied: attrs>=22.2.0 in ./.env/lib/python3.11/site-packages (from jsonschema>=3.0->altair<6,>=4.0->streamlit>=0.66->stqdm) (23.1.0)\n",
      "Requirement already satisfied: jsonschema-specifications>=2023.03.6 in ./.env/lib/python3.11/site-packages (from jsonschema>=3.0->altair<6,>=4.0->streamlit>=0.66->stqdm) (2023.7.1)\n",
      "Requirement already satisfied: referencing>=0.28.4 in ./.env/lib/python3.11/site-packages (from jsonschema>=3.0->altair<6,>=4.0->streamlit>=0.66->stqdm) (0.30.2)\n",
      "Requirement already satisfied: rpds-py>=0.7.1 in ./.env/lib/python3.11/site-packages (from jsonschema>=3.0->altair<6,>=4.0->streamlit>=0.66->stqdm) (0.10.6)\n",
      "Requirement already satisfied: mdurl~=0.1 in ./.env/lib/python3.11/site-packages (from markdown-it-py>=2.2.0->rich<14,>=10.14.0->streamlit>=0.66->stqdm) (0.1.2)\n",
      "Installing collected packages: tqdm, stqdm\n",
      "Successfully installed stqdm-0.0.5 tqdm-4.66.1\n",
      "Note: you may need to restart the kernel to use updated packages.\n"
     ]
    }
   ],
   "source": [
    "#pip install stqdm"
   ]
  },
  {
   "cell_type": "code",
   "execution_count": 8,
   "metadata": {},
   "outputs": [
    {
     "data": {
      "text/html": [
       "<div>\n",
       "<style scoped>\n",
       "    .dataframe tbody tr th:only-of-type {\n",
       "        vertical-align: middle;\n",
       "    }\n",
       "\n",
       "    .dataframe tbody tr th {\n",
       "        vertical-align: top;\n",
       "    }\n",
       "\n",
       "    .dataframe thead th {\n",
       "        text-align: right;\n",
       "    }\n",
       "</style>\n",
       "<table border=\"1\" class=\"dataframe\">\n",
       "  <thead>\n",
       "    <tr style=\"text-align: right;\">\n",
       "      <th></th>\n",
       "      <th>Marque</th>\n",
       "      <th>Sexe</th>\n",
       "      <th>Tour de poitrine</th>\n",
       "      <th>Tour de taille</th>\n",
       "      <th>Tour de hanches</th>\n",
       "      <th>Taille</th>\n",
       "    </tr>\n",
       "  </thead>\n",
       "  <tbody>\n",
       "    <tr>\n",
       "      <th>0</th>\n",
       "      <td>Zara</td>\n",
       "      <td>Femme</td>\n",
       "      <td>80</td>\n",
       "      <td>58</td>\n",
       "      <td>86</td>\n",
       "      <td>XXS</td>\n",
       "    </tr>\n",
       "    <tr>\n",
       "      <th>1</th>\n",
       "      <td>Zara</td>\n",
       "      <td>Femme</td>\n",
       "      <td>82</td>\n",
       "      <td>62</td>\n",
       "      <td>90</td>\n",
       "      <td>XS</td>\n",
       "    </tr>\n",
       "    <tr>\n",
       "      <th>2</th>\n",
       "      <td>Zara</td>\n",
       "      <td>Femme</td>\n",
       "      <td>86</td>\n",
       "      <td>66</td>\n",
       "      <td>94</td>\n",
       "      <td>S</td>\n",
       "    </tr>\n",
       "    <tr>\n",
       "      <th>3</th>\n",
       "      <td>Zara</td>\n",
       "      <td>Femme</td>\n",
       "      <td>90</td>\n",
       "      <td>70</td>\n",
       "      <td>98</td>\n",
       "      <td>M</td>\n",
       "    </tr>\n",
       "    <tr>\n",
       "      <th>4</th>\n",
       "      <td>Zara</td>\n",
       "      <td>Femme</td>\n",
       "      <td>96</td>\n",
       "      <td>76</td>\n",
       "      <td>104</td>\n",
       "      <td>L</td>\n",
       "    </tr>\n",
       "  </tbody>\n",
       "</table>\n",
       "</div>"
      ],
      "text/plain": [
       "  Marque   Sexe   Tour de poitrine  Tour de taille   Tour de hanches Taille\n",
       "0    Zara  Femme                80               58               86    XXS\n",
       "1    Zara  Femme                82               62               90     XS\n",
       "2    Zara  Femme                86               66               94      S\n",
       "3    Zara  Femme                90               70               98      M\n",
       "4    Zara  Femme                96               76              104      L"
      ]
     },
     "execution_count": 8,
     "metadata": {},
     "output_type": "execute_result"
    }
   ],
   "source": [
    "df=pd.read_csv('Data/dataset.csv')\n",
    "df.head()"
   ]
  },
  {
   "cell_type": "code",
   "execution_count": 9,
   "metadata": {},
   "outputs": [
    {
     "data": {
      "text/plain": [
       "['Marque ',\n",
       " 'Sexe ',\n",
       " 'Tour de poitrine',\n",
       " 'Tour de taille ',\n",
       " 'Tour de hanches',\n",
       " 'Taille']"
      ]
     },
     "execution_count": 9,
     "metadata": {},
     "output_type": "execute_result"
    }
   ],
   "source": [
    "list(df.columns)"
   ]
  },
  {
   "cell_type": "code",
   "execution_count": 10,
   "metadata": {},
   "outputs": [
    {
     "data": {
      "text/plain": [
       "['Femme', 'Homme']"
      ]
     },
     "execution_count": 10,
     "metadata": {},
     "output_type": "execute_result"
    }
   ],
   "source": [
    "sexe=list(df['Sexe '].unique())\n",
    "sexe"
   ]
  },
  {
   "cell_type": "code",
   "execution_count": 14,
   "metadata": {},
   "outputs": [
    {
     "data": {
      "text/plain": [
       "<Axes: >"
      ]
     },
     "execution_count": 14,
     "metadata": {},
     "output_type": "execute_result"
    },
    {
     "data": {
      "image/png": "[encoded data removed]",
      "text/plain": [
       "<Figure size 640x480 with 1 Axes>"
      ]
     },
     "metadata": {},
     "output_type": "display_data"
    }
   ],
   "source": [
    "df.plot(kind='box')"
   ]
  },
  {
   "cell_type": "code",
   "execution_count": null,
   "metadata": {},
   "outputs": [],
   "source": []
  }
 ],
 "metadata": {
  "kernelspec": {
   "display_name": "Python 3",
   "language": "python",
   "name": "python3"
  },
  "language_info": {
   "codemirror_mode": {
    "name": "ipython",
    "version": 3
   },
   "file_extension": ".py",
   "mimetype": "text/x-python",
   "name": "python",
   "nbconvert_exporter": "python",
   "pygments_lexer": "ipython3",
   "version": "3.11.4"
  }
 },
 "nbformat": 4,
 "nbformat_minor": 2
}
